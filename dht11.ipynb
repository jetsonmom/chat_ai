{
 "cells": [
  {
   "cell_type": "code",
   "execution_count": null,
   "id": "eb343a87-9bc2-43e0-93f2-28e37b73e75d",
   "metadata": {},
   "outputs": [],
   "source": [
    "#이전 대화는 지워지고 현재 질문만 볼 수 있다."
   ]
  },
  {
   "cell_type": "code",
   "execution_count": 1,
   "id": "686f86b3-5877-44eb-9b5f-010eabc3590e",
   "metadata": {},
   "outputs": [
    {
     "name": "stdout",
     "output_type": "stream",
     "text": [
      "Collecting pyserial\n",
      "  Downloading pyserial-3.5-py2.py3-none-any.whl (90 kB)\n",
      "\u001b[K     |████████████████████████████████| 90 kB 2.4 MB/s eta 0:00:011\n",
      "\u001b[?25hRequirement already satisfied: ipywidgets in ./Python-3.8.12/myenv/lib/python3.8/site-packages (8.1.5)\n",
      "Requirement already satisfied: widgetsnbextension~=4.0.12 in ./Python-3.8.12/myenv/lib/python3.8/site-packages (from ipywidgets) (4.0.13)\n",
      "Requirement already satisfied: traitlets>=4.3.1 in ./Python-3.8.12/myenv/lib/python3.8/site-packages (from ipywidgets) (5.14.3)\n",
      "Requirement already satisfied: jupyterlab-widgets~=3.0.12 in ./Python-3.8.12/myenv/lib/python3.8/site-packages (from ipywidgets) (3.0.13)\n",
      "Requirement already satisfied: comm>=0.1.3 in ./Python-3.8.12/myenv/lib/python3.8/site-packages (from ipywidgets) (0.2.2)\n",
      "Requirement already satisfied: ipython>=6.1.0 in ./Python-3.8.12/myenv/lib/python3.8/site-packages (from ipywidgets) (8.12.3)\n",
      "Requirement already satisfied: pygments>=2.4.0 in ./Python-3.8.12/myenv/lib/python3.8/site-packages (from ipython>=6.1.0->ipywidgets) (2.19.1)\n",
      "Requirement already satisfied: stack-data in ./Python-3.8.12/myenv/lib/python3.8/site-packages (from ipython>=6.1.0->ipywidgets) (0.6.3)\n",
      "Requirement already satisfied: decorator in ./Python-3.8.12/myenv/lib/python3.8/site-packages (from ipython>=6.1.0->ipywidgets) (5.1.1)\n",
      "Requirement already satisfied: matplotlib-inline in ./Python-3.8.12/myenv/lib/python3.8/site-packages (from ipython>=6.1.0->ipywidgets) (0.1.7)\n",
      "Requirement already satisfied: jedi>=0.16 in ./Python-3.8.12/myenv/lib/python3.8/site-packages (from ipython>=6.1.0->ipywidgets) (0.19.2)\n",
      "Requirement already satisfied: typing-extensions in ./Python-3.8.12/myenv/lib/python3.8/site-packages (from ipython>=6.1.0->ipywidgets) (4.12.2)\n",
      "Requirement already satisfied: backcall in ./Python-3.8.12/myenv/lib/python3.8/site-packages (from ipython>=6.1.0->ipywidgets) (0.2.0)\n",
      "Requirement already satisfied: prompt-toolkit!=3.0.37,<3.1.0,>=3.0.30 in ./Python-3.8.12/myenv/lib/python3.8/site-packages (from ipython>=6.1.0->ipywidgets) (3.0.48)\n",
      "Requirement already satisfied: pexpect>4.3 in ./Python-3.8.12/myenv/lib/python3.8/site-packages (from ipython>=6.1.0->ipywidgets) (4.9.0)\n",
      "Requirement already satisfied: pickleshare in ./Python-3.8.12/myenv/lib/python3.8/site-packages (from ipython>=6.1.0->ipywidgets) (0.7.5)\n",
      "Requirement already satisfied: parso<0.9.0,>=0.8.4 in ./Python-3.8.12/myenv/lib/python3.8/site-packages (from jedi>=0.16->ipython>=6.1.0->ipywidgets) (0.8.4)\n",
      "Requirement already satisfied: ptyprocess>=0.5 in ./Python-3.8.12/myenv/lib/python3.8/site-packages (from pexpect>4.3->ipython>=6.1.0->ipywidgets) (0.7.0)\n",
      "Requirement already satisfied: wcwidth in ./Python-3.8.12/myenv/lib/python3.8/site-packages (from prompt-toolkit!=3.0.37,<3.1.0,>=3.0.30->ipython>=6.1.0->ipywidgets) (0.2.13)\n",
      "Requirement already satisfied: pure-eval in ./Python-3.8.12/myenv/lib/python3.8/site-packages (from stack-data->ipython>=6.1.0->ipywidgets) (0.2.3)\n",
      "Requirement already satisfied: executing>=1.2.0 in ./Python-3.8.12/myenv/lib/python3.8/site-packages (from stack-data->ipython>=6.1.0->ipywidgets) (2.1.0)\n",
      "Requirement already satisfied: asttokens>=2.1.0 in ./Python-3.8.12/myenv/lib/python3.8/site-packages (from stack-data->ipython>=6.1.0->ipywidgets) (3.0.0)\n",
      "Installing collected packages: pyserial\n",
      "Successfully installed pyserial-3.5\n",
      "\u001b[33mWARNING: You are using pip version 21.1.1; however, version 24.3.1 is available.\n",
      "You should consider upgrading via the '/home/chat/Python-3.8.12/myenv/bin/python3.8 -m pip install --upgrade pip' command.\u001b[0m\n"
     ]
    }
   ],
   "source": [
    "!pip install pyserial ipywidgets"
   ]
  },
  {
   "cell_type": "code",
   "execution_count": 4,
   "id": "b968f120-9daa-45e7-994f-b8bab040ab26",
   "metadata": {},
   "outputs": [
    {
     "data": {
      "application/vnd.jupyter.widget-view+json": {
       "model_id": "96130c0b821c44e8a75227e5e78cf0c9",
       "version_major": 2,
       "version_minor": 0
      },
      "text/plain": [
       "VBox(children=(Text(value='', description='질문:', placeholder='온도가 어때?'), Button(description='전송', style=Button…"
      ]
     },
     "metadata": {},
     "output_type": "display_data"
    }
   ],
   "source": [
    "import serial\n",
    "import time\n",
    "import ipywidgets as widgets\n",
    "from IPython.display import display, clear_output\n",
    "import threading\n",
    "import json\n",
    "\n",
    "class TemperatureChatbot:\n",
    "    def __init__(self, port='/dev/ttyACM0', baud_rate=115200):\n",
    "        self.serial_port = serial.Serial(port, baud_rate, timeout=1)\n",
    "        self.latest_temp = None\n",
    "        self.latest_humidity = None\n",
    "        self.running = True\n",
    "        \n",
    "        # Start reading thread\n",
    "        self.thread = threading.Thread(target=self.read_serial)\n",
    "        self.thread.daemon = True\n",
    "        self.thread.start()\n",
    "        \n",
    "        # Create UI elements\n",
    "        self.output = widgets.Output()\n",
    "        self.text_input = widgets.Text(description='질문:', placeholder='온도가 어때?')\n",
    "        self.send_button = widgets.Button(description='전송')\n",
    "        self.send_button.on_click(self.handle_question)\n",
    "        \n",
    "        # Display UI\n",
    "        display(widgets.VBox([self.text_input, self.send_button, self.output]))\n",
    "        \n",
    "    def read_serial(self):\n",
    "        while self.running:\n",
    "            if self.serial_port.in_waiting:\n",
    "                line = self.serial_port.readline().decode('utf-8').strip()\n",
    "                if \"Sample OK:\" in line:\n",
    "                    # Parse temperature and humidity\n",
    "                    parts = line.split(\"Sample OK: \")[1].split()\n",
    "                    self.latest_temp = int(parts[0])\n",
    "                    self.latest_humidity = int(parts[2])\n",
    "            time.sleep(0.1)\n",
    "    \n",
    "    def handle_question(self, button):\n",
    "        question = self.text_input.value.lower()\n",
    "        with self.output:\n",
    "            clear_output()\n",
    "            print(f\"질문: {question}\")\n",
    "            \n",
    "            if not self.latest_temp or not self.latest_humidity:\n",
    "                print(\"센서 데이터를 아직 받지 못했습니다. 잠시만 기다려주세요.\")\n",
    "                return\n",
    "                \n",
    "            if '온도' in question:\n",
    "                print(f\"현재 온도는 {self.latest_temp}°C 입니다.\")\n",
    "            elif '습도' in question:\n",
    "                print(f\"현재 습도는 {self.latest_humidity}% 입니다.\")\n",
    "            else:\n",
    "                print(f\"현재 온도는 {self.latest_temp}°C, 습도는 {self.latest_humidity}% 입니다.\")\n",
    "            \n",
    "        self.text_input.value = ''  # Clear input field\n",
    "        \n",
    "    def close(self):\n",
    "        self.running = False\n",
    "        self.serial_port.close()\n",
    "        \n",
    "# Jupyter Notebook에서 실행할 코드\n",
    "chatbot = TemperatureChatbot()"
   ]
  },
  {
   "cell_type": "code",
   "execution_count": null,
   "id": "18efcd88-5fa7-437d-b182-996a6e48649e",
   "metadata": {},
   "outputs": [],
   "source": [
    "#현재 대화도 저장되고 다음 질문도 저장되는 형태."
   ]
  },
  {
   "cell_type": "code",
   "execution_count": null,
   "id": "5dd820bb-a729-460c-aff9-72dd28d81988",
   "metadata": {},
   "outputs": [],
   "source": []
  }
 ],
 "metadata": {
  "kernelspec": {
   "display_name": "Python 3 (ipykernel)",
   "language": "python",
   "name": "python3"
  },
  "language_info": {
   "codemirror_mode": {
    "name": "ipython",
    "version": 3
   },
   "file_extension": ".py",
   "mimetype": "text/x-python",
   "name": "python",
   "nbconvert_exporter": "python",
   "pygments_lexer": "ipython3",
   "version": "3.8.12"
  }
 },
 "nbformat": 4,
 "nbformat_minor": 5
}
